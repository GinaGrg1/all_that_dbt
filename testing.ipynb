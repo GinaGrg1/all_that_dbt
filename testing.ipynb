import datetime
import os

print("HELLO WORLD")
